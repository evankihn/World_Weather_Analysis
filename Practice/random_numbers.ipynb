{
 "cells": [
  {
   "cell_type": "code",
   "execution_count": 1,
   "id": "7f416894",
   "metadata": {},
   "outputs": [],
   "source": [
    "#Import the random module\n",
    "import random"
   ]
  },
  {
   "cell_type": "code",
   "execution_count": 2,
   "id": "d25e6894",
   "metadata": {},
   "outputs": [
    {
     "data": {
      "text/plain": [
       "-12"
      ]
     },
     "execution_count": 2,
     "metadata": {},
     "output_type": "execute_result"
    }
   ],
   "source": [
    "random.randint(-90,90)"
   ]
  },
  {
   "cell_type": "code",
   "execution_count": 3,
   "id": "ac6b9cf2",
   "metadata": {},
   "outputs": [
    {
     "data": {
      "text/plain": [
       "0.6856334074481164"
      ]
     },
     "execution_count": 3,
     "metadata": {},
     "output_type": "execute_result"
    }
   ],
   "source": [
    "random.random()"
   ]
  },
  {
   "cell_type": "code",
   "execution_count": 4,
   "id": "c44f0810",
   "metadata": {},
   "outputs": [
    {
     "data": {
      "text/plain": [
       "-64.00542348197784"
      ]
     },
     "execution_count": 4,
     "metadata": {},
     "output_type": "execute_result"
    }
   ],
   "source": [
    "random_number = random.randint(-90,89) + random.random()\n",
    "random_number"
   ]
  },
  {
   "cell_type": "code",
   "execution_count": 6,
   "id": "3617139b",
   "metadata": {},
   "outputs": [
    {
     "data": {
      "text/plain": [
       "[79.73894791975034,\n",
       " -59.05087848935105,\n",
       " -77.37701246688592,\n",
       " 37.996420642941175,\n",
       " -19.347747330956974,\n",
       " -58.028581675815815,\n",
       " -67.1527201045596,\n",
       " -63.211414880998724,\n",
       " 66.8451132277605,\n",
       " 50.968700264386904]"
      ]
     },
     "execution_count": 6,
     "metadata": {},
     "output_type": "execute_result"
    }
   ],
   "source": [
    "x = 1 \n",
    "latitudes = []\n",
    "while x < 11:\n",
    "    random_lat = random.randint(-90,89) + random.random()\n",
    "    latitudes.append(random_lat)\n",
    "    x += 1\n",
    "latitudes"
   ]
  },
  {
   "cell_type": "code",
   "execution_count": 8,
   "id": "7f593c66",
   "metadata": {},
   "outputs": [
    {
     "data": {
      "text/plain": [
       "-71"
      ]
     },
     "execution_count": 8,
     "metadata": {},
     "output_type": "execute_result"
    }
   ],
   "source": [
    "random.randrange(-90,90, step=1)"
   ]
  },
  {
   "cell_type": "code",
   "execution_count": 9,
   "id": "f0c997cd",
   "metadata": {},
   "outputs": [
    {
     "data": {
      "text/plain": [
       "-36"
      ]
     },
     "execution_count": 9,
     "metadata": {},
     "output_type": "execute_result"
    }
   ],
   "source": [
    "random.randrange(-90,90, step=3)"
   ]
  },
  {
   "cell_type": "code",
   "execution_count": 10,
   "id": "35004697",
   "metadata": {},
   "outputs": [
    {
     "data": {
      "text/plain": [
       "-55.524827358930544"
      ]
     },
     "execution_count": 10,
     "metadata": {},
     "output_type": "execute_result"
    }
   ],
   "source": [
    "random.uniform(-90,90)"
   ]
  },
  {
   "cell_type": "code",
   "execution_count": 11,
   "id": "01442eae",
   "metadata": {},
   "outputs": [],
   "source": [
    "# Import the Numpy module \n",
    "import numpy as np"
   ]
  },
  {
   "cell_type": "code",
   "execution_count": 12,
   "id": "48c98049",
   "metadata": {},
   "outputs": [
    {
     "data": {
      "text/plain": [
       "-33.23556444852676"
      ]
     },
     "execution_count": 12,
     "metadata": {},
     "output_type": "execute_result"
    }
   ],
   "source": [
    "np.random.uniform(-90.000, 90.000)"
   ]
  },
  {
   "cell_type": "code",
   "execution_count": 14,
   "id": "27f9e9e5",
   "metadata": {},
   "outputs": [
    {
     "data": {
      "text/plain": [
       "array([-82.44517547, -57.08802199, -69.12950845, -65.20015274,\n",
       "       -83.56970387,  83.74066247,  15.82412316, -23.09454314,\n",
       "        63.2876905 ,  81.64898273,  30.42356895, -35.44809573,\n",
       "       -46.80727854, -17.98832372, -33.46728001,  39.8212627 ,\n",
       "        63.02990774,  63.63131009, -37.69605853, -46.58200137,\n",
       "       -81.63905915,  30.40492019, -47.0618694 , -50.46720145,\n",
       "       -74.94928601,  40.95751198, -79.35748371,  70.10784206,\n",
       "        85.16285506,  51.05657535, -35.07383889, -39.32477087,\n",
       "       -58.73845224, -16.02645444,  -7.84362573, -28.16210217,\n",
       "        -9.48750901, -12.6424695 ,  31.93260325, -47.80061665,\n",
       "        -4.89898791,  24.81846551, -38.51001   , -67.7384567 ,\n",
       "        83.45507414,  83.9977064 , -30.71157848, -60.46595671,\n",
       "       -70.11266789, -45.90713292])"
      ]
     },
     "execution_count": 14,
     "metadata": {},
     "output_type": "execute_result"
    }
   ],
   "source": [
    "np.random.uniform(-90.000, 90.000, size=50)"
   ]
  },
  {
   "cell_type": "code",
   "execution_count": 15,
   "id": "99ca3332",
   "metadata": {},
   "outputs": [],
   "source": [
    "# Import timeit(measures how long a function takes to run)\n",
    "import timeit"
   ]
  },
  {
   "cell_type": "code",
   "execution_count": 16,
   "id": "fb4037f8",
   "metadata": {},
   "outputs": [
    {
     "name": "stdout",
     "output_type": "stream",
     "text": [
      "12.9 µs ± 265 ns per loop (mean ± std. dev. of 7 runs, 100000 loops each)\n"
     ]
    }
   ],
   "source": [
    "%timeit np.random.uniform(-90.000, 90.000, size=1500)"
   ]
  },
  {
   "cell_type": "code",
   "execution_count": 17,
   "id": "d046f920",
   "metadata": {},
   "outputs": [
    {
     "name": "stdout",
     "output_type": "stream",
     "text": [
      "2.01 ms ± 51.9 µs per loop (mean ± std. dev. of 7 runs, 100 loops each)\n"
     ]
    }
   ],
   "source": [
    "def latitudes(size):\n",
    "    latitudes = []\n",
    "    x = 0\n",
    "    while x < (size):\n",
    "        random_lat = random.randint(-90, 90) + random.random()\n",
    "        latitudes.append(random_lat)\n",
    "        x += 1\n",
    "    return latitudes\n",
    "\n",
    "#Call the functions with 1500.\n",
    "%timeit latitudes(1500)"
   ]
  },
  {
   "cell_type": "code",
   "execution_count": null,
   "id": "0c76d37e",
   "metadata": {},
   "outputs": [],
   "source": []
  }
 ],
 "metadata": {
  "kernelspec": {
   "display_name": "PythonData",
   "language": "python",
   "name": "pythondata"
  },
  "language_info": {
   "codemirror_mode": {
    "name": "ipython",
    "version": 3
   },
   "file_extension": ".py",
   "mimetype": "text/x-python",
   "name": "python",
   "nbconvert_exporter": "python",
   "pygments_lexer": "ipython3",
   "version": "3.7.10"
  }
 },
 "nbformat": 4,
 "nbformat_minor": 5
}
